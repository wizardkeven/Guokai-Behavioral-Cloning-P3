{
 "cells": [
  {
   "cell_type": "markdown",
   "metadata": {},
   "source": [
    "# Experiment on Behavioral cloning Project"
   ]
  },
  {
   "cell_type": "code",
   "execution_count": 1,
   "metadata": {},
   "outputs": [],
   "source": [
    "import os\n",
    "import csv\n",
    "import cv2\n",
    "import numpy as np\n",
    "import seaborn as sns\n",
    "import matplotlib.pyplot as plt\n",
    "\n",
    "%matplotlib inline"
   ]
  },
  {
   "cell_type": "markdown",
   "metadata": {},
   "source": [
    "## 1. Read in data"
   ]
  },
  {
   "cell_type": "code",
   "execution_count": 2,
   "metadata": {},
   "outputs": [
    {
     "data": {
      "text/plain": [
       "['center', 'left', 'right', 'steering', 'throttle', 'brake', 'speed']"
      ]
     },
     "execution_count": 2,
     "metadata": {},
     "output_type": "execute_result"
    }
   ],
   "source": [
    "# data samples directories\n",
    "data_dir = 'data/'\n",
    "samples = []\n",
    "with open(os.path.join(data_dir,'driving_log.csv')) as f:\n",
    "    reader = csv.reader(f)\n",
    "    for line in reader:\n",
    "        samples.append(line)\n",
    "\n",
    "# pop out first descriptive line\n",
    "samples.pop(0)"
   ]
  },
  {
   "cell_type": "markdown",
   "metadata": {},
   "source": [
    "### i. Load in steer angle and image directories"
   ]
  },
  {
   "cell_type": "code",
   "execution_count": 3,
   "metadata": {},
   "outputs": [],
   "source": [
    "# steer angles\n",
    "steer_angle = []\n",
    "\n",
    "# images\n",
    "c_images_dir = []\n",
    "l_images_dir = []\n",
    "r_images_dir = []\n",
    "for line in samples:\n",
    "#     print(type(line[0]))\n",
    "#     image = cv2.imread()\n",
    "    c_images_dir.append(os.path.join(data_dir,line[0].strip())) # convert read in bgr image to rgb image\n",
    "    \n",
    "#     image1 = cv2.imread()\n",
    "    l_images_dir.append(os.path.join(data_dir,line[1].strip())) # convert read in bgr image to rgb image\n",
    "    \n",
    "#     image = cv2.imread()\n",
    "    r_images_dir.append(os.path.join(data_dir,line[2].strip())) # convert read in bgr image to rgb image\n",
    "    steer_angle.append(float(line[3]))"
   ]
  },
  {
   "cell_type": "markdown",
   "metadata": {},
   "source": [
    "### ii. Using left-view and right-view images with steer angle adjustment "
   ]
  },
  {
   "cell_type": "code",
   "execution_count": 4,
   "metadata": {},
   "outputs": [],
   "source": [
    "# steer angle for left-view images and right-view images\n",
    "steer_angle = np.array(steer_angle)\n",
    "l_steer_angle, r_steer_angle = steer_angle+0.25 , steer_angle-0.25\n",
    "y_train = np.concatenate((steer_angle,l_steer_angle,r_steer_angle))\n",
    "# image directories for all images\n",
    "X_train_dir = np.concatenate((c_images_dir,l_images_dir,r_images_dir))"
   ]
  },
  {
   "cell_type": "code",
   "execution_count": 5,
   "metadata": {},
   "outputs": [
    {
     "name": "stdout",
     "output_type": "stream",
     "text": [
      "Total steer angle size is    : (24108,)\n",
      "Total training images size is :(24108,)\n",
      "-0.05975719\n"
     ]
    }
   ],
   "source": [
    "print('Total steer angle size is    : {}'.format(y_train.shape))\n",
    "print('Total training images size is :{}'.format(X_train_dir.shape))\n",
    "print(y_train[100])"
   ]
  },
  {
   "cell_type": "markdown",
   "metadata": {},
   "source": [
    "## 2. Visualize data"
   ]
  },
  {
   "cell_type": "code",
   "execution_count": 6,
   "metadata": {},
   "outputs": [
    {
     "data": {
      "text/plain": [
       "[<matplotlib.lines.Line2D at 0xb590c18>]"
      ]
     },
     "execution_count": 6,
     "metadata": {},
     "output_type": "execute_result"
    },
    {
     "data": {
      "image/png": "[encoded data removed]",
      "text/plain": [
       "<matplotlib.figure.Figure at 0xaf3f320>"
      ]
     },
     "metadata": {},
     "output_type": "display_data"
    }
   ],
   "source": [
    "# print(len(steer_angle))\n",
    "plt.plot(y_train)"
   ]
  },
  {
   "cell_type": "code",
   "execution_count": 7,
   "metadata": {},
   "outputs": [],
   "source": [
    "# plt.hist(steer_angle,rwidth=0.5)\n",
    "# sns.distplot(steer_angle, kde=False, rug=True)\n",
    "# sns.kdeplot(y_train, shade=True, cut=0)\n",
    "# sns.rugplot(y_train)"
   ]
  },
  {
   "cell_type": "markdown",
   "metadata": {},
   "source": [
    "## 3 Image augmentation"
   ]
  },
  {
   "cell_type": "markdown",
   "metadata": {},
   "source": [
    "### i. Image translation"
   ]
  },
  {
   "cell_type": "code",
   "execution_count": 8,
   "metadata": {},
   "outputs": [],
   "source": [
    "def augment_brightness_camera_images(image):\n",
    "    image1 = cv2.cvtColor(image,cv2.COLOR_RGB2HSV)\n",
    "    image1 = np.array(image1, dtype = np.float64)\n",
    "    random_bright = .5+np.random.uniform()\n",
    "    image1[:,:,2] = image1[:,:,2]*random_bright\n",
    "    image1[:,:,2][image1[:,:,2]>255]  = 255\n",
    "    image1 = np.array(image1, dtype = np.uint8)\n",
    "    image1 = cv2.cvtColor(image1,cv2.COLOR_HSV2RGB)\n",
    "    return image1"
   ]
  },
  {
   "cell_type": "code",
   "execution_count": 28,
   "metadata": {},
   "outputs": [],
   "source": [
    "rows,cols = 160,320\n",
    "# randomly translate images with steer angle adjustment\n",
    "def trans_image(image,steer,trans_range):\n",
    "    # Translation\n",
    "    tr_x = trans_range*np.random.uniform()-trans_range/2\n",
    "    steer_ang = steer + tr_x/trans_range*2*.2\n",
    "    tr_y = 40*np.random.uniform()-40/2\n",
    "    #tr_y = 0\n",
    "    Trans_M = np.float32([[1,0,tr_x],[0,1,tr_y]])\n",
    "    image_tr = cv2.warpAffine(image,Trans_M,(cols,rows))\n",
    "    \n",
    "    return image_tr,steer_ang"
   ]
  },
  {
   "cell_type": "code",
   "execution_count": 10,
   "metadata": {},
   "outputs": [],
   "source": [
    "def add_random_shadow(image):\n",
    "    top_y = 320*np.random.uniform()\n",
    "    top_x = 0\n",
    "    bot_x = 160\n",
    "    bot_y = 320*np.random.uniform()\n",
    "    image_hls = cv2.cvtColor(image,cv2.COLOR_RGB2HLS)\n",
    "    shadow_mask = 0*image_hls[:,:,1]\n",
    "    X_m = np.mgrid[0:image.shape[0],0:image.shape[1]][0]\n",
    "    Y_m = np.mgrid[0:image.shape[0],0:image.shape[1]][1]\n",
    "    shadow_mask[((X_m-top_x)*(bot_y-top_y) -(bot_x - top_x)*(Y_m-top_y) >=0)]=1\n",
    "    #random_bright = .25+.7*np.random.uniform()\n",
    "    \n",
    "    if np.random.randint(2)==1:\n",
    "        random_bright = .5\n",
    "        cond1 = shadow_mask==1\n",
    "        cond0 = shadow_mask==0\n",
    "        if np.random.randint(2)==1:\n",
    "            image_hls[:,:,1][cond1] = image_hls[:,:,1][cond1]*random_bright\n",
    "        else:\n",
    "            image_hls[:,:,1][cond0] = image_hls[:,:,1][cond0]*random_bright    \n",
    "    image = cv2.cvtColor(image_hls,cv2.COLOR_HLS2RGB)\n",
    "    return image"
   ]
  },
  {
   "cell_type": "code",
   "execution_count": 27,
   "metadata": {},
   "outputs": [],
   "source": [
    "# import math\n",
    "# new_size_col,new_size_row = 64, 64\n",
    "# def preprocessImage(image):\n",
    "#     shape = image.shape\n",
    "#     # note: numpy arrays are (row, col)!\n",
    "#     image = image[math.floor(shape[0]/5):shape[0]-25, 0:shape[1]]\n",
    "#     image = cv2.resize(image,(new_size_col,new_size_row), interpolation=cv2.INTER_AREA)    \n",
    "#     return image\n",
    "\n",
    "nb_samples = len(y_train)\n",
    "\n",
    "def preprocess_image_file_train(input_x, input_y):\n",
    "    rand_index = np.random.randint(len(input_x))\n",
    "    y_steer = input_y[rand_index]\n",
    "    i_path = input_x[rand_index]\n",
    "    image = cv2.imread(i_path)\n",
    "    image = cv2.cvtColor(image,cv2.COLOR_BGR2RGB)\n",
    "    image,y_steer = trans_image(image,y_steer,100)\n",
    "    image = augment_brightness_camera_images(image)\n",
    "#     image = preprocessImage(image)\n",
    "    image = np.array(image)\n",
    "    ind_flip = np.random.randint(2)\n",
    "    if ind_flip==0:\n",
    "        image = cv2.flip(image,1)\n",
    "        y_steer = -y_steer\n",
    "    \n",
    "    return image,y_steer"
   ]
  },
  {
   "cell_type": "markdown",
   "metadata": {},
   "source": [
    "## 4 CNN model"
   ]
  },
  {
   "cell_type": "code",
   "execution_count": 12,
   "metadata": {},
   "outputs": [
    {
     "name": "stderr",
     "output_type": "stream",
     "text": [
      "Using TensorFlow backend.\n"
     ]
    }
   ],
   "source": [
    "from keras.layers import Dense,Dropout,Conv2D,Lambda,Cropping2D,Reshape,Flatten\n",
    "from keras.models import Sequential,save_model\n",
    "from keras.backend import tf as ktf\n",
    "from sklearn.model_selection import train_test_split\n",
    "from sklearn.utils import shuffle"
   ]
  },
  {
   "cell_type": "markdown",
   "metadata": {},
   "source": [
    "### i. Architecure"
   ]
  },
  {
   "cell_type": "code",
   "execution_count": 13,
   "metadata": {},
   "outputs": [],
   "source": [
    "model = Sequential()\n",
    "\n",
    "# preprocess layers\n",
    "model.add(Lambda(lambda x: x/255.0-0.5,input_shape = (160,320,3),name ='lambda_normalize_layer'))\n",
    "model.add(Cropping2D(cropping=((70, 25), (0, 0))))\n",
    "# model.add(Reshape((64,64,3)))\n",
    "\n",
    "model.add(Lambda(lambda image: ktf.image.resize_images(image, (64,64))))\n",
    "# color space self-adaptation layer\n",
    "model.add(Conv2D(3,1,1,activation='elu',name='cv_1_3x1x1')) \n",
    "\n",
    "# basic feature learning layers\n",
    "# input shape: 64x64x3, output shape: 32x32x24\n",
    "model.add(Conv2D(24,5,5,border_mode='same',subsample=(2,2),activation='elu',name='cv_2_24x5x5'))\n",
    "# input shape: 32x32x24, output shape: 16x16x36\n",
    "model.add(Conv2D(36,3,3,border_mode='same',subsample=(2,2),activation='elu',name='cv_3_36x3x3'))\n",
    "# input shape: 16x16x36, output shape: 8x8x48\n",
    "model.add(Conv2D(48,3,3,border_mode='same',subsample=(2,2),activation='elu',name='cv_4_48x3x3'))\n",
    "model.add(Dropout(0.5))\n",
    "\n",
    "# complicated feature learning layers\n",
    "# input shape: 8x8x48, output shape: 6x6x64\n",
    "model.add(Conv2D(64,3,3,activation='elu',name='cv_5_64x3x3'))\n",
    "# input shape: 6x6x64, output shape: 4x4x64\n",
    "model.add(Conv2D(64,3,3,activation='elu',name='cv_6_64x3x3'))\n",
    "model.add(Dropout(0.5))\n",
    "\n",
    "# flatten layer\n",
    "# input shape: 4x4x64, output shape: 1024\n",
    "model.add(Flatten())\n",
    "\n",
    "# Fully-connected layers\n",
    "# input shape: 1024 output shape: 100\n",
    "model.add(Dense(100,name='fc_1_100'))\n",
    "# input shape: 100 output shape: 50\n",
    "model.add(Dense(50,name='fc_2_50'))\n",
    "# input shape: 50 output shape: 10\n",
    "model.add(Dense(10,name='fc_3_10'))\n",
    "model.add(Dropout(0.5))\n",
    "\n",
    "# regression output layer\n",
    "model.add(Dense(1))"
   ]
  },
  {
   "cell_type": "markdown",
   "metadata": {},
   "source": [
    "### ii. data generator"
   ]
  },
  {
   "cell_type": "code",
   "execution_count": 29,
   "metadata": {},
   "outputs": [],
   "source": [
    "def generate_train_from_PD_batch(input_x,input_y,batch_size = 32):\n",
    "    \n",
    "    batch_images = []\n",
    "    batch_steering =[]\n",
    "    while 1:\n",
    "        for i_batch in range(batch_size):\n",
    "            i_line = np.random.randint(len(input_x))\n",
    "            \n",
    "            keep_pr = 0\n",
    "            #x,y = preprocess_image_file_train(line_data)\n",
    "            while keep_pr == 0:\n",
    "                x,y = preprocess_image_file_train(input_x,input_y)\n",
    "                if abs(y)<.01:\n",
    "                    keep_pr = 0\n",
    "                else:\n",
    "                    keep_pr = 1\n",
    "            \n",
    "            #x = x.reshape(1, x.shape[0], x.shape[1], x.shape[2])\n",
    "            #y = np.array([[y]])\n",
    "            batch_images.append(x)\n",
    "            batch_steering.append(y)\n",
    "        yield batch_images, batch_steering"
   ]
  },
  {
   "cell_type": "code",
   "execution_count": 15,
   "metadata": {},
   "outputs": [],
   "source": [
    "# data shuffle and split\n",
    "\n",
    "# X_train_dir,y_train = shuffle(X_train_dir,y_train)\n",
    "\n",
    "X_train,X_test_dir,Y_train,Y_test = train_test_split( X_train_dir,y_train,test_size=0.2)"
   ]
  },
  {
   "cell_type": "code",
   "execution_count": 24,
   "metadata": {},
   "outputs": [],
   "source": [
    "# X_test =[]\n",
    "# def test_r_generator(input_x,input_y,batch_size):\n",
    "#     batch_images = np.zeros((batch_size, new_size_row, new_size_col, 3))\n",
    "#     batch_steering = np.zeros(batch_size)\n",
    "#     while 1:        \n",
    "#         for i in range(batch_size):\n",
    "#             i_line = np.random.randint(len(input_x))\n",
    "#             i_path = input_x[i_line]\n",
    "#             image = cv2.imread(i_path)\n",
    "#             image = cv2.cvtColor(image,cv2.COLOR_BGR2RGB)\n",
    "#             image = cv2.resize(image,(new_size_col,new_size_row), interpolation=cv2.INTER_AREA)\n",
    "#             X_test.append(image)\n",
    "            \n",
    "def generator(input_x,input_y, batch_size=32):\n",
    "    num_samples = len(input_y)\n",
    "    while 1: # Loop forever so the generator never terminates\n",
    "        shuffle(input_x,input_y)\n",
    "        for offset in range(0, num_samples, batch_size):\n",
    "            batch_samples = input_x[offset:offset+batch_size],input_y[offset:offset+batch_size]\n",
    "\n",
    "            output_x = []\n",
    "            output_y = []\n",
    "            for batch_sample in batch_samples:\n",
    "                name = batch_samples[0]\n",
    "                print(name)\n",
    "                center_image = cv2.imread(name)\n",
    "                center_image = cv2.cvtColor(image,cv2.COLOR_BGR2RGB)\n",
    "                center_image = cv2.resize(image,(new_size_col,new_size_row), interpolation=cv2.INTER_AREA)\n",
    "                center_angle = float(batch_sample[1])\n",
    "                output_x.append(center_image)\n",
    "                output_y.append(center_angle)\n",
    "\n",
    "            # trim image to only see section with road\n",
    "            output_x = np.array(output_x)\n",
    "            output_y = np.array(output_y)\n",
    "            yield output_x, output_y"
   ]
  },
  {
   "cell_type": "code",
   "execution_count": 30,
   "metadata": {},
   "outputs": [
    {
     "name": "stdout",
     "output_type": "stream",
     "text": [
      "Epoch 1/2\n"
     ]
    },
    {
     "ename": "ValueError",
     "evalue": "Error when checking model input: the list of Numpy arrays that you are passing to your model is not the size the model expected. Expected to see 1 arrays but instead got the following list of 64 arrays: [array([[[ 51,  68,  95],\n        [ 66,  83, 110],\n        [ 76,  94, 121],\n        ..., \n        [  0,   0,   0],\n        [  0,   0,   0],\n        [  0,   0,   0]],\n\n       [[ 76,  93, 120],\n        ...",
     "output_type": "error",
     "traceback": [
      "\u001b[1;31m---------------------------------------------------------------------------\u001b[0m",
      "\u001b[1;31mValueError\u001b[0m                                Traceback (most recent call last)",
      "\u001b[1;32m<ipython-input-30-ad923b164591>\u001b[0m in \u001b[0;36m<module>\u001b[1;34m()\u001b[0m\n\u001b[0;32m     17\u001b[0m \u001b[1;31m#                     nb_val_samples=len(Y_test),\u001b[0m\u001b[1;33m\u001b[0m\u001b[1;33m\u001b[0m\u001b[0m\n\u001b[0;32m     18\u001b[0m                     \u001b[0mnb_epoch\u001b[0m\u001b[1;33m=\u001b[0m\u001b[0mepoch\u001b[0m\u001b[1;33m,\u001b[0m\u001b[1;33m\u001b[0m\u001b[0m\n\u001b[1;32m---> 19\u001b[1;33m                     verbose=1)\n\u001b[0m\u001b[0;32m     20\u001b[0m \u001b[1;33m\u001b[0m\u001b[0m\n\u001b[0;32m     21\u001b[0m \u001b[0mmodel\u001b[0m\u001b[1;33m.\u001b[0m\u001b[0msave\u001b[0m\u001b[1;33m(\u001b[0m\u001b[1;34m'model.h5'\u001b[0m\u001b[1;33m)\u001b[0m\u001b[1;33m\u001b[0m\u001b[0m\n",
      "\u001b[1;32mD:\\Miniconda3\\envs\\carnd-term1\\lib\\site-packages\\keras\\models.py\u001b[0m in \u001b[0;36mfit_generator\u001b[1;34m(self, generator, samples_per_epoch, nb_epoch, verbose, callbacks, validation_data, nb_val_samples, class_weight, max_q_size, nb_worker, pickle_safe, initial_epoch, **kwargs)\u001b[0m\n\u001b[0;32m    933\u001b[0m                                         \u001b[0mnb_worker\u001b[0m\u001b[1;33m=\u001b[0m\u001b[0mnb_worker\u001b[0m\u001b[1;33m,\u001b[0m\u001b[1;33m\u001b[0m\u001b[0m\n\u001b[0;32m    934\u001b[0m                                         \u001b[0mpickle_safe\u001b[0m\u001b[1;33m=\u001b[0m\u001b[0mpickle_safe\u001b[0m\u001b[1;33m,\u001b[0m\u001b[1;33m\u001b[0m\u001b[0m\n\u001b[1;32m--> 935\u001b[1;33m                                         initial_epoch=initial_epoch)\n\u001b[0m\u001b[0;32m    936\u001b[0m \u001b[1;33m\u001b[0m\u001b[0m\n\u001b[0;32m    937\u001b[0m     def evaluate_generator(self, generator, val_samples,\n",
      "\u001b[1;32mD:\\Miniconda3\\envs\\carnd-term1\\lib\\site-packages\\keras\\engine\\training.py\u001b[0m in \u001b[0;36mfit_generator\u001b[1;34m(self, generator, samples_per_epoch, nb_epoch, verbose, callbacks, validation_data, nb_val_samples, class_weight, max_q_size, nb_worker, pickle_safe, initial_epoch)\u001b[0m\n\u001b[0;32m   1551\u001b[0m                     outs = self.train_on_batch(x, y,\n\u001b[0;32m   1552\u001b[0m                                                \u001b[0msample_weight\u001b[0m\u001b[1;33m=\u001b[0m\u001b[0msample_weight\u001b[0m\u001b[1;33m,\u001b[0m\u001b[1;33m\u001b[0m\u001b[0m\n\u001b[1;32m-> 1553\u001b[1;33m                                                class_weight=class_weight)\n\u001b[0m\u001b[0;32m   1554\u001b[0m \u001b[1;33m\u001b[0m\u001b[0m\n\u001b[0;32m   1555\u001b[0m                     \u001b[1;32mif\u001b[0m \u001b[1;32mnot\u001b[0m \u001b[0misinstance\u001b[0m\u001b[1;33m(\u001b[0m\u001b[0mouts\u001b[0m\u001b[1;33m,\u001b[0m \u001b[0mlist\u001b[0m\u001b[1;33m)\u001b[0m\u001b[1;33m:\u001b[0m\u001b[1;33m\u001b[0m\u001b[0m\n",
      "\u001b[1;32mD:\\Miniconda3\\envs\\carnd-term1\\lib\\site-packages\\keras\\engine\\training.py\u001b[0m in \u001b[0;36mtrain_on_batch\u001b[1;34m(self, x, y, sample_weight, class_weight)\u001b[0m\n\u001b[0;32m   1308\u001b[0m             \u001b[0msample_weight\u001b[0m\u001b[1;33m=\u001b[0m\u001b[0msample_weight\u001b[0m\u001b[1;33m,\u001b[0m\u001b[1;33m\u001b[0m\u001b[0m\n\u001b[0;32m   1309\u001b[0m             \u001b[0mclass_weight\u001b[0m\u001b[1;33m=\u001b[0m\u001b[0mclass_weight\u001b[0m\u001b[1;33m,\u001b[0m\u001b[1;33m\u001b[0m\u001b[0m\n\u001b[1;32m-> 1310\u001b[1;33m             check_batch_axis=True)\n\u001b[0m\u001b[0;32m   1311\u001b[0m         \u001b[1;32mif\u001b[0m \u001b[0mself\u001b[0m\u001b[1;33m.\u001b[0m\u001b[0muses_learning_phase\u001b[0m \u001b[1;32mand\u001b[0m \u001b[1;32mnot\u001b[0m \u001b[0misinstance\u001b[0m\u001b[1;33m(\u001b[0m\u001b[0mK\u001b[0m\u001b[1;33m.\u001b[0m\u001b[0mlearning_phase\u001b[0m\u001b[1;33m,\u001b[0m \u001b[0mint\u001b[0m\u001b[1;33m)\u001b[0m\u001b[1;33m:\u001b[0m\u001b[1;33m\u001b[0m\u001b[0m\n\u001b[0;32m   1312\u001b[0m             \u001b[0mins\u001b[0m \u001b[1;33m=\u001b[0m \u001b[0mx\u001b[0m \u001b[1;33m+\u001b[0m \u001b[0my\u001b[0m \u001b[1;33m+\u001b[0m \u001b[0msample_weights\u001b[0m \u001b[1;33m+\u001b[0m \u001b[1;33m[\u001b[0m\u001b[1;36m1.\u001b[0m\u001b[1;33m]\u001b[0m\u001b[1;33m\u001b[0m\u001b[0m\n",
      "\u001b[1;32mD:\\Miniconda3\\envs\\carnd-term1\\lib\\site-packages\\keras\\engine\\training.py\u001b[0m in \u001b[0;36m_standardize_user_data\u001b[1;34m(self, x, y, sample_weight, class_weight, check_batch_axis, batch_size)\u001b[0m\n\u001b[0;32m   1028\u001b[0m                                    \u001b[0mself\u001b[0m\u001b[1;33m.\u001b[0m\u001b[0minternal_input_shapes\u001b[0m\u001b[1;33m,\u001b[0m\u001b[1;33m\u001b[0m\u001b[0m\n\u001b[0;32m   1029\u001b[0m                                    \u001b[0mcheck_batch_axis\u001b[0m\u001b[1;33m=\u001b[0m\u001b[1;32mFalse\u001b[0m\u001b[1;33m,\u001b[0m\u001b[1;33m\u001b[0m\u001b[0m\n\u001b[1;32m-> 1030\u001b[1;33m                                    exception_prefix='model input')\n\u001b[0m\u001b[0;32m   1031\u001b[0m         y = standardize_input_data(y, self.output_names,\n\u001b[0;32m   1032\u001b[0m                                    \u001b[0moutput_shapes\u001b[0m\u001b[1;33m,\u001b[0m\u001b[1;33m\u001b[0m\u001b[0m\n",
      "\u001b[1;32mD:\\Miniconda3\\envs\\carnd-term1\\lib\\site-packages\\keras\\engine\\training.py\u001b[0m in \u001b[0;36mstandardize_input_data\u001b[1;34m(data, names, shapes, check_batch_axis, exception_prefix)\u001b[0m\n\u001b[0;32m     63\u001b[0m                                  \u001b[1;34m'the following list of '\u001b[0m \u001b[1;33m+\u001b[0m \u001b[0mstr\u001b[0m\u001b[1;33m(\u001b[0m\u001b[0mlen\u001b[0m\u001b[1;33m(\u001b[0m\u001b[0mdata\u001b[0m\u001b[1;33m)\u001b[0m\u001b[1;33m)\u001b[0m \u001b[1;33m+\u001b[0m\u001b[1;33m\u001b[0m\u001b[0m\n\u001b[0;32m     64\u001b[0m                                  \u001b[1;34m' arrays: '\u001b[0m \u001b[1;33m+\u001b[0m \u001b[0mstr\u001b[0m\u001b[1;33m(\u001b[0m\u001b[0mdata\u001b[0m\u001b[1;33m)\u001b[0m\u001b[1;33m[\u001b[0m\u001b[1;33m:\u001b[0m\u001b[1;36m200\u001b[0m\u001b[1;33m]\u001b[0m \u001b[1;33m+\u001b[0m\u001b[1;33m\u001b[0m\u001b[0m\n\u001b[1;32m---> 65\u001b[1;33m                                  '...')\n\u001b[0m\u001b[0;32m     66\u001b[0m             \u001b[1;32melse\u001b[0m\u001b[1;33m:\u001b[0m\u001b[1;33m\u001b[0m\u001b[0m\n\u001b[0;32m     67\u001b[0m                 \u001b[1;32mif\u001b[0m \u001b[0mlen\u001b[0m\u001b[1;33m(\u001b[0m\u001b[0mnames\u001b[0m\u001b[1;33m)\u001b[0m \u001b[1;33m==\u001b[0m \u001b[1;36m1\u001b[0m\u001b[1;33m:\u001b[0m\u001b[1;33m\u001b[0m\u001b[0m\n",
      "\u001b[1;31mValueError\u001b[0m: Error when checking model input: the list of Numpy arrays that you are passing to your model is not the size the model expected. Expected to see 1 arrays but instead got the following list of 64 arrays: [array([[[ 51,  68,  95],\n        [ 66,  83, 110],\n        [ 76,  94, 121],\n        ..., \n        [  0,   0,   0],\n        [  0,   0,   0],\n        [  0,   0,   0]],\n\n       [[ 76,  93, 120],\n        ..."
     ]
    }
   ],
   "source": [
    "from keras.models import load_model\n",
    "\n",
    "epoch = 2\n",
    "val_size = 1\n",
    "pre_threshold = 1\n",
    "batch_size = 64\n",
    "\n",
    "train_r_generator = generate_train_from_PD_batch(X_train,Y_train,batch_size)\n",
    "test_r_generator = generator(X_train,Y_train,batch_size)\n",
    "print\n",
    "\n",
    "model.compile(optimizer='rmsprop',\n",
    "          loss='mse')\n",
    "\n",
    "model.fit_generator(generator=train_r_generator,\n",
    "                    samples_per_epoch=20000, \n",
    "#                     validation_data=test_r_generator, \n",
    "#                     nb_val_samples=len(Y_test),\n",
    "                    nb_epoch=epoch,\n",
    "                    verbose=1)\n",
    "\n",
    "model.save('model.h5') "
   ]
  },
  {
   "cell_type": "code",
   "execution_count": null,
   "metadata": {},
   "outputs": [],
   "source": [
    "\n",
    "\n"
   ]
  }
 ],
 "metadata": {
  "kernelspec": {
   "display_name": "Python 3",
   "language": "python",
   "name": "python3"
  },
  "language_info": {
   "codemirror_mode": {
    "name": "ipython",
    "version": 3
   },
   "file_extension": ".py",
   "mimetype": "text/x-python",
   "name": "python",
   "nbconvert_exporter": "python",
   "pygments_lexer": "ipython3",
   "version": "3.5.2"
  },
  "widgets": {
   "state": {},
   "version": "1.1.2"
  }
 },
 "nbformat": 4,
 "nbformat_minor": 2
}
